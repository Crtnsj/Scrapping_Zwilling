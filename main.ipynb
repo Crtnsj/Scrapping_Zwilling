{
 "cells": [
  {
   "cell_type": "code",
   "execution_count": 1,
   "id": "699ae18c",
   "metadata": {},
   "outputs": [],
   "source": [
    "import polars as pl"
   ]
  },
  {
   "cell_type": "code",
   "execution_count": null,
   "id": "3c14e30d",
   "metadata": {},
   "outputs": [
    {
     "data": {
      "text/html": [
       "<div><style>\n",
       ".dataframe > thead > tr,\n",
       ".dataframe > tbody > tr {\n",
       "  text-align: right;\n",
       "  white-space: pre-wrap;\n",
       "}\n",
       "</style>\n",
       "<small>shape: (9, 7)</small><table border=\"1\" class=\"dataframe\"><thead><tr><th>statistic</th><th>url</th><th>ref</th><th>description</th><th>teaser</th><th>chars</th><th>pics</th></tr><tr><td>str</td><td>str</td><td>str</td><td>str</td><td>str</td><td>str</td><td>str</td></tr></thead><tbody><tr><td>&quot;count&quot;</td><td>&quot;692&quot;</td><td>&quot;692&quot;</td><td>&quot;692&quot;</td><td>&quot;692&quot;</td><td>&quot;692&quot;</td><td>&quot;692&quot;</td></tr><tr><td>&quot;null_count&quot;</td><td>&quot;0&quot;</td><td>&quot;0&quot;</td><td>&quot;0&quot;</td><td>&quot;0&quot;</td><td>&quot;0&quot;</td><td>&quot;0&quot;</td></tr><tr><td>&quot;mean&quot;</td><td>null</td><td>null</td><td>null</td><td>null</td><td>null</td><td>null</td></tr><tr><td>&quot;std&quot;</td><td>null</td><td>null</td><td>null</td><td>null</td><td>null</td><td>null</td></tr><tr><td>&quot;min&quot;</td><td>&quot;https://www.zwilling.com/fr/ba…</td><td>&quot;1023003&quot;</td><td>&quot;&quot;</td><td>&quot;&quot;</td><td>&quot;Couleur: Anthracite: 0:1,Matér…</td><td>&quot;https://www.zwilling.com/dw/im…</td></tr><tr><td>&quot;25%&quot;</td><td>null</td><td>null</td><td>null</td><td>null</td><td>null</td><td>null</td></tr><tr><td>&quot;50%&quot;</td><td>null</td><td>null</td><td>null</td><td>null</td><td>null</td><td>null</td></tr><tr><td>&quot;75%&quot;</td><td>null</td><td>null</td><td>null</td><td>null</td><td>null</td><td>null</td></tr><tr><td>&quot;max&quot;</td><td>&quot;https://www.zwilling.com/fr/zw…</td><td>&quot;89003-000-0&quot;</td><td>&quot;À la fois polyvalente et fonct…</td><td>&quot;Éplucheur polyvalent et robust…</td><td>&quot;Résistance à la chaleur: 1.000…</td><td>&quot;https://www.zwilling.com/dw/im…</td></tr></tbody></table></div>"
      ],
      "text/plain": [
       "shape: (9, 7)\n",
       "┌────────────┬──────────────┬─────────────┬──────────────┬─────────────┬─────────────┬─────────────┐\n",
       "│ statistic  ┆ url          ┆ ref         ┆ description  ┆ teaser      ┆ chars       ┆ pics        │\n",
       "│ ---        ┆ ---          ┆ ---         ┆ ---          ┆ ---         ┆ ---         ┆ ---         │\n",
       "│ str        ┆ str          ┆ str         ┆ str          ┆ str         ┆ str         ┆ str         │\n",
       "╞════════════╪══════════════╪═════════════╪══════════════╪═════════════╪═════════════╪═════════════╡\n",
       "│ count      ┆ 692          ┆ 692         ┆ 692          ┆ 692         ┆ 692         ┆ 692         │\n",
       "│ null_count ┆ 0            ┆ 0           ┆ 0            ┆ 0           ┆ 0           ┆ 0           │\n",
       "│ mean       ┆ null         ┆ null        ┆ null         ┆ null        ┆ null        ┆ null        │\n",
       "│ std        ┆ null         ┆ null        ┆ null         ┆ null        ┆ null        ┆ null        │\n",
       "│ min        ┆ https://www. ┆ 1023003     ┆              ┆             ┆ Couleur:    ┆ https://www │\n",
       "│            ┆ zwilling.com ┆             ┆              ┆             ┆ Anthracite: ┆ .zwilling.c │\n",
       "│            ┆ /fr/ba…      ┆             ┆              ┆             ┆ 0:1,Matér…  ┆ om/dw/im…   │\n",
       "│ 25%        ┆ null         ┆ null        ┆ null         ┆ null        ┆ null        ┆ null        │\n",
       "│ 50%        ┆ null         ┆ null        ┆ null         ┆ null        ┆ null        ┆ null        │\n",
       "│ 75%        ┆ null         ┆ null        ┆ null         ┆ null        ┆ null        ┆ null        │\n",
       "│ max        ┆ https://www. ┆ 89003-000-0 ┆ À la fois    ┆ Éplucheur   ┆ Résistance  ┆ https://www │\n",
       "│            ┆ zwilling.com ┆             ┆ polyvalente  ┆ polyvalent  ┆ à la        ┆ .zwilling.c │\n",
       "│            ┆ /fr/zw…      ┆             ┆ et fonct…    ┆ et robust…  ┆ chaleur:    ┆ om/dw/im…   │\n",
       "│            ┆              ┆             ┆              ┆             ┆ 1.000…      ┆             │\n",
       "└────────────┴──────────────┴─────────────┴──────────────┴─────────────┴─────────────┴─────────────┘"
      ]
     },
     "execution_count": 5,
     "metadata": {},
     "output_type": "execute_result"
    }
   ],
   "source": [
    "df = pl.read_csv('./dataframes/data.csv', null_values=[\"\",\"N/A\", \"NULL\"],schema_overrides={\"ref\": pl.Utf8})\n",
    "df.describe()"
   ]
  }
 ],
 "metadata": {
  "kernelspec": {
   "display_name": "venv",
   "language": "python",
   "name": "python3"
  },
  "language_info": {
   "codemirror_mode": {
    "name": "ipython",
    "version": 3
   },
   "file_extension": ".py",
   "mimetype": "text/x-python",
   "name": "python",
   "nbconvert_exporter": "python",
   "pygments_lexer": "ipython3",
   "version": "3.12.3"
  }
 },
 "nbformat": 4,
 "nbformat_minor": 5
}
